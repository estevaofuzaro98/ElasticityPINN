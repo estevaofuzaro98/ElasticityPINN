{
  "cells": [
    {
      "attachments": {},
      "cell_type": "markdown",
      "metadata": {
        "id": "Wt4l4KlM4P5r"
      },
      "source": [
        " # **Some Regards on using Physics-Informed Neural Networks for Solving Two-Dimensional Elasticity Problems**\n",
        " \n",
        " **Authors:** Estevão Fuzaro de Almeida & Samuel da Silva\n",
        " \n",
        " **Last modified:** January 28, 2025\n",
        " \n",
        " ---"
      ]
    },
    {
      "cell_type": "markdown",
      "metadata": {},
      "source": [
        "## **Case 1: plate under a vertical triangular load**"
      ]
    },
    {
      "cell_type": "markdown",
      "metadata": {},
      "source": [
        "Consider a triangular plate with a linearly increasing load as shown in the figure below, with the stress $q_0 (\\textrm{N/m}^2)$ at $x=L$.\n",
        "\n",
        "<center><img src=\"imgs/placa1_bg.jpg\"  width=\"400\" height=\"450\"></center>\n",
        "\n",
        "The idea is to use the elastic equilibrium equations and find the stresses of the plate using a physics-informed neural network. These conservation equations are given by:\n",
        "$$\n",
        "\\begin{matrix}\n",
        "\\frac{\\partial \\sigma_x}{\\partial x} + \\frac{\\partial \\tau_{xy}}{\\partial y} = 0 \\\\\n",
        "\\frac{\\partial \\tau_{xy}}{\\partial x} + \\frac{\\partial \\sigma_y}{\\partial y} = 0 \\\\\n",
        "\\frac{\\partial^2 \\sigma_x}{\\partial x^2} + \\frac{\\partial^2 \\sigma_y}{\\partial x^2} + \\frac{\\partial^2 \\sigma_x}{\\partial y^2} + \\frac{\\partial^2 \\sigma_y}{\\partial y^2} = 0\n",
        "\\end{matrix}\n",
        "$$\n",
        "which can be simplified into two main equations:\n",
        "$$\n",
        "\\begin{matrix}\n",
        "\\nabla\\cdot\\sigma = 0 \\\\\n",
        "\\nabla^2\\left(\\sigma_x + \\sigma_y\\right) = 0\n",
        "\\end{matrix}\n",
        "$$\n",
        "\n",
        "The boundary conditions can be easily obtained by evaluating faces $AB$ and $AC$ (face $BC$ is only used to find stresses at the clamping, so it is not as important).\n",
        "* **Face $AB$**:\n",
        "  * $y=0$\n",
        "  * $∀x$\n",
        "  * $0 \\leq x \\leq L$\n",
        "\n",
        "$$\\hat{n}_{AB} = -\\hat{j};~~~~\\vec{t}_{AB} = \\left[\\sigma\\right]\\hat{n}_{AB} ⇒$$\n",
        "\n",
        "$$\\vec{t}_{AB} = \\begin{bmatrix} \\sigma_x & \\tau_{xy} \\\\ \\tau_{xy} & \\sigma_y\\end{bmatrix}\\begin{Bmatrix}0 \\\\ -1\\end{Bmatrix} = \\begin{Bmatrix}0 \\\\ q(x)\\end{Bmatrix},~\\textrm{where}~q(x) = -\\frac{q_0}{L}x$$\n",
        "\n",
        "$$\\therefore \\boxed{\\tau_{xy}(x,0) = 0}~~\\textrm{and}~~\\boxed{\\sigma_y(x,0)=\\frac{q_0}{L}x}$$\n",
        "\n",
        "* **Face $AC$**:\n",
        "  * $y=x$\n",
        "  * $0 \\leq x \\leq L$\n",
        "\n",
        "$$\\hat{n}_{AC} = -\\frac{1}{\\sqrt{2}}\\hat{i} + \\frac{1}{\\sqrt{2}}\\hat{j};~~~~\\vec{t}_{AC} = \\left[\\sigma\\right]\\hat{n}_{AC} ⇒$$\n",
        "\n",
        "$$\\vec{t}_{AC} = \\begin{bmatrix} \\sigma_x & \\tau_{xy} \\\\ \\tau_{xy} & \\sigma_y\\end{bmatrix}\\begin{Bmatrix}-\\frac{1}{\\sqrt{2}} \\\\ \\frac{1}{\\sqrt{2}}\\end{Bmatrix} = \\begin{Bmatrix}0 \\\\ 0\\end{Bmatrix}$$\n",
        "\n",
        "$$\\therefore \\boxed{\\sigma_x(x,x) = \\tau_{xy}(x,x)}~~\\textrm{and}~~\\boxed{\\sigma_y(x,x) = \\tau_{xy}(x,x)}$$"
      ]
    },
    {
      "attachments": {},
      "cell_type": "markdown",
      "metadata": {
        "id": "z4Tgn4oHf8TY"
      },
      "source": [
        "### **1. Initialization**"
      ]
    },
    {
      "cell_type": "code",
      "execution_count": 1,
      "metadata": {
        "colab": {
          "base_uri": "https://localhost:8080/"
        },
        "id": "x9kfnko_5Dd2",
        "outputId": "70846616-4971-4270-b2d1-e23574c54424"
      },
      "outputs": [
        {
          "name": "stdout",
          "output_type": "stream",
          "text": [
            "---------------------- SCIANN 0.7.0.1 ---------------------- \n",
            "For details, check out our review paper and the documentation at: \n",
            " +  \"https://www.sciencedirect.com/science/article/pii/S0045782520307374\", \n",
            " +  \"https://arxiv.org/abs/2005.08803\", \n",
            " +  \"https://www.sciann.com\". \n",
            "\n",
            " Need support or would like to contribute, please join sciann`s slack group: \n",
            " +  \"https://join.slack.com/t/sciann/shared_invite/zt-ne1f5jlx-k_dY8RGo3ZreDXwz0f~CeA\" \n",
            " \n",
            "TensorFlow Version: 2.10.0 \n",
            "Python Version: 3.9.13 (tags/v3.9.13:6de2ca5, May 17 2022, 16:36:42) [MSC v.1929 64 bit (AMD64)] \n",
            "\n",
            "TensorFlow v. 2.10.0\n",
            "Number of Available GPUs: 1\n",
            "GPU 0 - Name: NVIDIA GeForce RTX 3050 Laptop GPU, Total Memory:  4096 MB\n",
            "GPU Loaded: NVIDIA GeForce RTX 3050 Laptop GPU\n"
          ]
        }
      ],
      "source": [
        "import numpy as np\n",
        "import sciann as sn\n",
        "import os\n",
        "import matplotlib.pyplot as plt\n",
        "import matplotlib.font_manager as font_manager\n",
        "from matplotlib import rc\n",
        "from tensorflow import keras as ks\n",
        "import subprocess\n",
        "\n",
        "# Configure the seed for uniform network initialization\n",
        "seed = 1998\n",
        "np.random.seed(seed)\n",
        "sn.tf.random.set_seed(seed)\n",
        "\n",
        "# Check GPU availability and use it if available\n",
        "gpu_available = sn.tf.config.list_physical_devices('GPU')\n",
        "if gpu_available:\n",
        "    print(\"TensorFlow v.\", sn.tf.__version__)\n",
        "    print(\"Number of Available GPUs:\", len(sn.tf.config.experimental.list_physical_devices('GPU')))\n",
        "    command = \"nvidia-smi --query-gpu=name,memory.total --format=csv,noheader,nounits\"\n",
        "    output = subprocess.check_output(command, shell=True, encoding=\"utf-8\")\n",
        "    lines = output.strip().split(\"\\n\")\n",
        "    for idx, line in enumerate(lines):\n",
        "        name, memory = line.strip().split(\",\")\n",
        "        print(f\"GPU {idx} - Name: {name}, Total Memory: {memory} MB\")\n",
        "    sn.tf.config.experimental.set_memory_growth(gpu_available[0], True)\n",
        "    print(\"GPU Loaded:\",name)\n",
        "\n",
        "# Configuring fonts for the plots based on LaTeX\n",
        "rc('font', **{'family': 'serif', 'serif': ['Computer Modern'],'size': '18'})\n",
        "rc('text', usetex=True)"
      ]
    }
  ],
  "metadata": {
    "colab": {
      "provenance": []
    },
    "kernelspec": {
      "display_name": "Python 3",
      "name": "python3"
    },
    "language_info": {
      "codemirror_mode": {
        "name": "ipython",
        "version": 3
      },
      "file_extension": ".py",
      "mimetype": "text/x-python",
      "name": "python",
      "nbconvert_exporter": "python",
      "pygments_lexer": "ipython3",
      "version": "3.9.13"
    }
  },
  "nbformat": 4,
  "nbformat_minor": 0
}
